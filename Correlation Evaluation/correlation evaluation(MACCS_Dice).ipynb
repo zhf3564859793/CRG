{
 "cells": [
  {
   "cell_type": "code",
   "execution_count": 2,
   "id": "09616810-7fd2-4406-8372-64a597ef24df",
   "metadata": {
    "tags": []
   },
   "outputs": [],
   "source": [
    "import numpy as np\n",
    "import pandas as pd\n",
    "import warnings\n",
    "from rdkit import RDLogger\n",
    "from rdkit import Chem\n",
    "from rdkit.Chem import Draw\n",
    "from rdkit.Chem import AllChem\n",
    "from IPython.core.display import HTML\n",
    "from rdkit.Chem.QED import qed\n",
    "from rdkit.Chem import PandasTools\n",
    "def show(df):\n",
    "    return HTML(df.to_html(notebook=True))\n",
    "PandasTools.RenderImagesInAllDataFrames(images=True)"
   ]
  },
  {
   "cell_type": "code",
   "execution_count": 3,
   "id": "d4ac78cb-0477-48f6-967f-a982bf613a0c",
   "metadata": {
    "tags": []
   },
   "outputs": [],
   "source": [
    "import pandas as pd\n",
    "suzuki=pd.read_csv('/home/cbe/AI4CHEM/reaction_predict/suzuki_from_pistachio.csv')"
   ]
  },
  {
   "cell_type": "code",
   "execution_count": 4,
   "metadata": {},
   "outputs": [
    {
     "name": "stderr",
     "output_type": "stream",
     "text": [
      "/home/cbe/anaconda3/envs/py39/lib/python3.9/site-packages/rdkit/Chem/PandasPatcher.py:132: FutureWarning: DataFrame.applymap has been deprecated. Use DataFrame.map instead.\n",
      "  for col in df_subset.columns[df_subset.applymap(MolFormatter.is_mol).any()]\n"
     ]
    },
    {
     "data": {
      "text/html": [
       "<div>\n",
       "<style scoped>\n",
       "    .dataframe tbody tr th:only-of-type {\n",
       "        vertical-align: middle;\n",
       "    }\n",
       "\n",
       "    .dataframe tbody tr th {\n",
       "        vertical-align: top;\n",
       "    }\n",
       "\n",
       "    .dataframe thead th {\n",
       "        text-align: right;\n",
       "    }\n",
       "</style>\n",
       "<table border=\"1\" class=\"dataframe\">\n",
       "  <thead>\n",
       "    <tr style=\"text-align: right;\">\n",
       "      <th></th>\n",
       "      <th>Unnamed: 0</th>\n",
       "      <th>0</th>\n",
       "      <th>1</th>\n",
       "      <th>2</th>\n",
       "      <th>3</th>\n",
       "      <th>4</th>\n",
       "      <th>is_base_template</th>\n",
       "    </tr>\n",
       "  </thead>\n",
       "  <tbody>\n",
       "    <tr>\n",
       "      <th>0</th>\n",
       "      <td>1474</td>\n",
       "      <td>[CH3:1][c:2]1[cH:3][cH:4][c:5]([n:6]1-[c:7]1[c...</td>\n",
       "      <td>US20010007873A1_0204</td>\n",
       "      <td>EXAMPLE 15, Step D</td>\n",
       "      <td>3.1.5</td>\n",
       "      <td>Bromo Suzuki-type coupling</td>\n",
       "      <td>True</td>\n",
       "    </tr>\n",
       "    <tr>\n",
       "      <th>1</th>\n",
       "      <td>1485</td>\n",
       "      <td>[CH3:1][c:2]1[cH:3][cH:4][c:5]([n:6]1-[c:7]1[c...</td>\n",
       "      <td>US20010007873A1_0242</td>\n",
       "      <td>EXAMPLE 20, Step F</td>\n",
       "      <td>3.1.5</td>\n",
       "      <td>Bromo Suzuki-type coupling</td>\n",
       "      <td>True</td>\n",
       "    </tr>\n",
       "  </tbody>\n",
       "</table>\n",
       "</div>"
      ],
      "text/plain": [
       "   Unnamed: 0                                                  0  \\\n",
       "0        1474  [CH3:1][c:2]1[cH:3][cH:4][c:5]([n:6]1-[c:7]1[c...   \n",
       "1        1485  [CH3:1][c:2]1[cH:3][cH:4][c:5]([n:6]1-[c:7]1[c...   \n",
       "\n",
       "                      1                   2      3  \\\n",
       "0  US20010007873A1_0204  EXAMPLE 15, Step D  3.1.5   \n",
       "1  US20010007873A1_0242  EXAMPLE 20, Step F  3.1.5   \n",
       "\n",
       "                            4  is_base_template  \n",
       "0  Bromo Suzuki-type coupling              True  \n",
       "1  Bromo Suzuki-type coupling              True  "
      ]
     },
     "execution_count": 4,
     "metadata": {},
     "output_type": "execute_result"
    }
   ],
   "source": [
    "suzuki.head(2)"
   ]
  },
  {
   "cell_type": "code",
   "execution_count": 5,
   "metadata": {},
   "outputs": [],
   "source": [
    "#data_test=pd.read_csv('/home/cbe/AI4CHEM/reaction_predict/data_with_ASKCOS_score.csv')\n",
    "data_test=pd.read_csv('/home/cbe/AI4CHEM/reaction_predict/suzuki_with_label_180.csv')"
   ]
  },
  {
   "cell_type": "code",
   "execution_count": 6,
   "metadata": {},
   "outputs": [],
   "source": [
    "from similarity_v1 import get_rxn_maccs, cal_rxn_dice_similarity, get_max_similarity"
   ]
  },
  {
   "cell_type": "code",
   "execution_count": 7,
   "metadata": {},
   "outputs": [],
   "source": [
    "from tqdm import tqdm\n",
    "tqdm.pandas()"
   ]
  },
  {
   "cell_type": "code",
   "execution_count": 8,
   "metadata": {},
   "outputs": [],
   "source": [
    "suzuki['maccs']=suzuki['0'].apply(lambda x: get_rxn_maccs(x))"
   ]
  },
  {
   "cell_type": "code",
   "execution_count": 9,
   "metadata": {},
   "outputs": [
    {
     "name": "stderr",
     "output_type": "stream",
     "text": [
      "100%|██████████| 180/180 [00:00<00:00, 1451.63it/s]\n"
     ]
    }
   ],
   "source": [
    "data_test['maccs']=data_test['rxn_smiles_x'].progress_apply(lambda x: get_rxn_maccs(x))"
   ]
  },
  {
   "cell_type": "code",
   "execution_count": 10,
   "metadata": {},
   "outputs": [],
   "source": [
    "emb_list=suzuki['maccs'].tolist()"
   ]
  },
  {
   "cell_type": "code",
   "execution_count": 11,
   "metadata": {},
   "outputs": [
    {
     "name": "stderr",
     "output_type": "stream",
     "text": [
      "100%|██████████| 180/180 [00:43<00:00,  4.11it/s]\n"
     ]
    }
   ],
   "source": [
    "data_test['max_maccs_sim']=data_test['maccs'].progress_apply(lambda x: get_max_similarity(x,emb_list))"
   ]
  },
  {
   "cell_type": "code",
   "execution_count": 12,
   "metadata": {},
   "outputs": [
    {
     "data": {
      "text/plain": [
       "count    180.000000\n",
       "mean       0.851921\n",
       "std        0.089611\n",
       "min        0.706278\n",
       "25%        0.757514\n",
       "50%        0.850332\n",
       "75%        0.921429\n",
       "max        1.000000\n",
       "Name: max_maccs_sim, dtype: float64"
      ]
     },
     "execution_count": 12,
     "metadata": {},
     "output_type": "execute_result"
    }
   ],
   "source": [
    "data_test['max_maccs_sim'].describe()"
   ]
  },
  {
   "cell_type": "code",
   "execution_count": 13,
   "id": "e4d27014",
   "metadata": {},
   "outputs": [
    {
     "name": "stderr",
     "output_type": "stream",
     "text": [
      "/home/cbe/anaconda3/envs/py39/lib/python3.9/site-packages/rdkit/Chem/PandasPatcher.py:132: FutureWarning: DataFrame.applymap has been deprecated. Use DataFrame.map instead.\n",
      "  for col in df_subset.columns[df_subset.applymap(MolFormatter.is_mol).any()]\n"
     ]
    },
    {
     "data": {
      "text/html": [
       "<div>\n",
       "<style scoped>\n",
       "    .dataframe tbody tr th:only-of-type {\n",
       "        vertical-align: middle;\n",
       "    }\n",
       "\n",
       "    .dataframe tbody tr th {\n",
       "        vertical-align: top;\n",
       "    }\n",
       "\n",
       "    .dataframe thead th {\n",
       "        text-align: right;\n",
       "    }\n",
       "</style>\n",
       "<table border=\"1\" class=\"dataframe\">\n",
       "  <thead>\n",
       "    <tr style=\"text-align: right;\">\n",
       "      <th></th>\n",
       "      <th>Unnamed: 0.1</th>\n",
       "      <th>Unnamed: 0</th>\n",
       "      <th>index</th>\n",
       "      <th>rxn_smiles_x</th>\n",
       "      <th>maccs</th>\n",
       "      <th>max_maccs_sim</th>\n",
       "      <th>label_x</th>\n",
       "      <th>rxn_smiles_y</th>\n",
       "      <th>ecfp</th>\n",
       "      <th>max_ecfp_sim</th>\n",
       "      <th>label_y</th>\n",
       "      <th>sim_range</th>\n",
       "    </tr>\n",
       "  </thead>\n",
       "  <tbody>\n",
       "    <tr>\n",
       "      <th>0</th>\n",
       "      <td>0</td>\n",
       "      <td>90004</td>\n",
       "      <td>19432</td>\n",
       "      <td>OCc1c(Cl)ccnc1SCI.OPCCc1cccc(B(O)O)c1&gt;&gt;OCc1c(-...</td>\n",
       "      <td>[[0, 0, 0, 0, 0, 0, 0, 0, 0, 0, 0, 0, 0, 0, 0,...</td>\n",
       "      <td>0.741772</td>\n",
       "      <td>N</td>\n",
       "      <td>NaN</td>\n",
       "      <td>NaN</td>\n",
       "      <td>NaN</td>\n",
       "      <td>NaN</td>\n",
       "      <td>0.70-0.75</td>\n",
       "    </tr>\n",
       "  </tbody>\n",
       "</table>\n",
       "</div>"
      ],
      "text/plain": [
       "   Unnamed: 0.1  Unnamed: 0  index  \\\n",
       "0             0       90004  19432   \n",
       "\n",
       "                                        rxn_smiles_x  \\\n",
       "0  OCc1c(Cl)ccnc1SCI.OPCCc1cccc(B(O)O)c1>>OCc1c(-...   \n",
       "\n",
       "                                               maccs  max_maccs_sim label_x  \\\n",
       "0  [[0, 0, 0, 0, 0, 0, 0, 0, 0, 0, 0, 0, 0, 0, 0,...       0.741772       N   \n",
       "\n",
       "  rxn_smiles_y ecfp  max_ecfp_sim label_y  sim_range  \n",
       "0          NaN  NaN           NaN     NaN  0.70-0.75  "
      ]
     },
     "execution_count": 13,
     "metadata": {},
     "output_type": "execute_result"
    }
   ],
   "source": [
    "data_test.head(1)"
   ]
  },
  {
   "cell_type": "code",
   "execution_count": 14,
   "id": "946c81b0",
   "metadata": {},
   "outputs": [],
   "source": [
    "data_test['label_x'] = data_test['label_x'].replace('S', 'Y')"
   ]
  },
  {
   "cell_type": "code",
   "execution_count": 15,
   "id": "4c3199db",
   "metadata": {},
   "outputs": [],
   "source": [
    "label_dict = {'N': 0, 'Y': 1}\n",
    "y_true = data_test['label_x'].map(label_dict).values\n",
    "y_scores = data_test['max_maccs_sim'].values"
   ]
  },
  {
   "cell_type": "code",
   "execution_count": 17,
   "id": "13165a8c",
   "metadata": {},
   "outputs": [
    {
     "data": {
      "text/plain": [
       "<Figure size 640x480 with 0 Axes>"
      ]
     },
     "metadata": {},
     "output_type": "display_data"
    },
    {
     "data": {
      "image/png": "[encoded data removed]",
      "text/plain": [
       "<Figure size 1000x1000 with 1 Axes>"
      ]
     },
     "metadata": {},
     "output_type": "display_data"
    }
   ],
   "source": [
    "import matplotlib.pyplot as plt\n",
    "from sklearn import metrics\n",
    "fpr,tpr,thresholds = metrics.roc_curve(y_true, y_scores, pos_label=1)\n",
    "roc_auc = metrics.auc(fpr,tpr)  # 计算auc的值\n",
    "\n",
    "# 绘制roc曲线\n",
    "plt.figure()\n",
    "lw = 2\n",
    "plt.figure(figsize=(10,10))\n",
    "plt.plot(fpr, tpr, color='darkorange',lw=lw,label='LR ROC curve (area = %0.4f)' % roc_auc)\n",
    "plt.plot([0, 1], [0, 1], color='navy', lw=lw, linestyle='--')\n",
    "plt.xlim([0.0,1.0])\n",
    "plt.ylim([0.0,1.05])\n",
    "plt.xlabel('False Positive Rate')\n",
    "plt.ylabel('True Positive Rate')\n",
    "plt.title('Receiver operating characteristic example')\n",
    "plt.legend(loc=\"lower right\")\n",
    "plt.show()"
   ]
  },
  {
   "cell_type": "code",
   "execution_count": 18,
   "id": "82c816f9",
   "metadata": {},
   "outputs": [
    {
     "name": "stderr",
     "output_type": "stream",
     "text": [
      "/tmp/ipykernel_1919110/2101420121.py:5: FutureWarning: The default of observed=False is deprecated and will be changed to True in a future version of pandas. Pass observed=False to retain current behavior or observed=True to adopt the future default and silence this warning.\n",
      "  grouped = data_test.groupby(['sim_range', 'label_x']).size().unstack()\n"
     ]
    },
    {
     "data": {
      "image/png": "[encoded data removed]",
      "text/plain": [
       "<Figure size 800x600 with 1 Axes>"
      ]
     },
     "metadata": {},
     "output_type": "display_data"
    }
   ],
   "source": [
    "import matplotlib.pyplot as plt\n",
    "bins = [0.70, 0.75, 0.80, 0.85,0.90,0.95,1.00]\n",
    "labels = ['0.70-0.75', '0.75-0.80','0.80-0.85', '0.85-0.90','0.90-0.95','0.95-1.00']\n",
    "data_test['sim_range'] = pd.cut(data_test['max_maccs_sim'], bins=bins, labels=labels)\n",
    "grouped = data_test.groupby(['sim_range', 'label_x']).size().unstack()\n",
    "\n",
    "# 计算每个分组中 Y N 的数量，并计算比例\n",
    "total = grouped.sum(axis=1)\n",
    "proportions = grouped.apply(lambda x: x / total)\n",
    "\n",
    "# 设置图表大小和字体大小\n",
    "plt.rcParams['figure.figsize'] = [8, 6]\n",
    "plt.rcParams['font.size'] = 12\n",
    "\n",
    "# 绘制堆叠条形图\n",
    "ax = proportions.plot(kind='bar', stacked=True)\n",
    "\n",
    "# 设置标题、标签和图例\n",
    "ax.set_title('Reactivity proportion aross different similarity intervals',fontsize=18,pad=20)\n",
    "ax.set_xlabel('S$_{MACCS\\_Dice}$',fontsize=18)\n",
    "ax.set_ylabel('Proportion',fontsize=18)\n",
    "ax.legend(title='Label', bbox_to_anchor=(1.05, 1), loc='upper left')\n",
    "ax.set_xticklabels(ax.get_xticklabels(), rotation=45, ha='right')\n",
    "plt.tick_params(axis='both', which='major', labelsize=16)\n",
    "\n",
    "# 调整布局\n",
    "plt.tight_layout()\n",
    "\n",
    "# 显示图表\n",
    "#plt.show()\n",
    "plt.savefig('Figure 5a(YN).png',dpi=600)"
   ]
  },
  {
   "cell_type": "code",
   "execution_count": null,
   "id": "f7324ee8",
   "metadata": {},
   "outputs": [
    {
     "name": "stdout",
     "output_type": "stream",
     "text": [
      "Spearman correlation coefficient:  0.6257527361727342\n",
      "p-value: 5.902192333385634e-21\n"
     ]
    }
   ],
   "source": [
    "from scipy.stats import spearmanr\n",
    "\n",
    "# 计算相似度与反应活性之间的斯皮尔曼相关系数\n",
    "corr, p_value = spearmanr(data_test['max_maccs_sim'], data_test['label_x'], nan_policy='omit')\n",
    "\n",
    "# 打印相关系数和p值\n",
    "# print('Spearman correlation coefficient: {:.3f}'.format(corr))\n",
    "# print('p-value: {:.3f}'.format(p_value))\n",
    "print('Spearman correlation coefficient: ',corr)\n",
    "print('p-value:',p_value)\n"
   ]
  },
  {
   "cell_type": "code",
   "execution_count": 20,
   "id": "4629430f",
   "metadata": {},
   "outputs": [
    {
     "data": {
      "image/png": "[encoded data removed]",
      "text/plain": [
       "<Figure size 800x600 with 1 Axes>"
      ]
     },
     "metadata": {},
     "output_type": "display_data"
    }
   ],
   "source": [
    "import seaborn as sns\n",
    "df_Y = data_test[data_test['label_x'] == 'Y'].reset_index(drop=True)\n",
    "df_N = data_test[data_test['label_x'] == 'N'].reset_index(drop=True)\n",
    "#df_S = data_test[data_test['label_x'] == 'S'].reset_index(drop=True)\n",
    "sns.kdeplot(data=df_N['max_maccs_sim'].to_numpy(), label='N')\n",
    "#sns.kdeplot(data=df_S['max_maccs_sim'].to_numpy(), label='S')\n",
    "sns.kdeplot(data=df_Y['max_maccs_sim'].to_numpy(), label='Y')\n",
    "plt.xlabel('S$_{MACCS\\_Dice}$',fontsize=18)\n",
    "plt.ylabel('Density',fontsize=18)\n",
    "plt.title('Probability density distribution of different reactivity',fontsize=18,pad=20)\n",
    "plt.tick_params(axis='both', which='major', labelsize=16)\n",
    "plt.legend()\n",
    "plt.xlim(0.6, 1)\n",
    "plt.savefig('Figure 6a(YN).png',dpi=600)"
   ]
  },
  {
   "cell_type": "markdown",
   "id": "c5ea8375",
   "metadata": {},
   "source": [
    "##### Analysis of newly generated reactions"
   ]
  },
  {
   "cell_type": "code",
   "execution_count": null,
   "id": "24bcf65e",
   "metadata": {},
   "outputs": [],
   "source": [
    "#data_generate=pd.read_csv('/home/cbe/AI4CHEM/reaction_predict/generate_model/new_rxn_df_subset.csv')\n",
    "data_generate=pd.read_csv('/home/cbe/AI4CHEM/reaction_predict/generate_model/new_rxn_df.csv')"
   ]
  },
  {
   "cell_type": "code",
   "execution_count": null,
   "id": "9d04e222",
   "metadata": {},
   "outputs": [
    {
     "name": "stderr",
     "output_type": "stream",
     "text": [
      "100%|██████████| 90048/90048 [01:02<00:00, 1431.10it/s]\n"
     ]
    }
   ],
   "source": [
    "data_generate['maccs']=data_generate['rxn_smiles'].progress_apply(lambda x: get_rxn_maccs(x))"
   ]
  },
  {
   "cell_type": "code",
   "execution_count": null,
   "id": "78133d7a",
   "metadata": {},
   "outputs": [
    {
     "name": "stderr",
     "output_type": "stream",
     "text": [
      "100%|██████████| 90048/90048 [5:47:41<00:00,  4.32it/s]  \n"
     ]
    }
   ],
   "source": [
    "data_generate['max_maccs_sim']=data_generate['maccs'].progress_apply(lambda x: get_max_similarity(x,emb_list))"
   ]
  },
  {
   "cell_type": "code",
   "execution_count": null,
   "id": "b9bf1fa3",
   "metadata": {},
   "outputs": [
    {
     "data": {
      "text/plain": [
       "count    90048.000000\n",
       "mean         0.876783\n",
       "std          0.044348\n",
       "min          0.670045\n",
       "25%          0.846249\n",
       "50%          0.877339\n",
       "75%          0.908177\n",
       "max          1.000000\n",
       "Name: max_maccs_sim, dtype: float64"
      ]
     },
     "execution_count": 31,
     "metadata": {},
     "output_type": "execute_result"
    }
   ],
   "source": [
    "data_generate['max_maccs_sim'].describe()"
   ]
  },
  {
   "cell_type": "code",
   "execution_count": null,
   "id": "93980af7",
   "metadata": {},
   "outputs": [],
   "source": [
    "#data_generate.to_pickle('new_generated_suzuki_with_maccs_sim_true_structure.pkl')"
   ]
  },
  {
   "cell_type": "code",
   "execution_count": 44,
   "id": "04c00383",
   "metadata": {},
   "outputs": [],
   "source": [
    "\n",
    "data_generate=pd.read_pickle(('new_generated_suzuki_with_maccs_sim_true_structure.pkl'))"
   ]
  },
  {
   "cell_type": "code",
   "execution_count": 45,
   "id": "a10e64d8",
   "metadata": {},
   "outputs": [
    {
     "name": "stderr",
     "output_type": "stream",
     "text": [
      "/home/cbe/anaconda3/envs/py39/lib/python3.9/site-packages/rdkit/Chem/PandasPatcher.py:132: FutureWarning: DataFrame.applymap has been deprecated. Use DataFrame.map instead.\n",
      "  for col in df_subset.columns[df_subset.applymap(MolFormatter.is_mol).any()]\n"
     ]
    },
    {
     "data": {
      "text/html": [
       "<div>\n",
       "<style scoped>\n",
       "    .dataframe tbody tr th:only-of-type {\n",
       "        vertical-align: middle;\n",
       "    }\n",
       "\n",
       "    .dataframe tbody tr th {\n",
       "        vertical-align: top;\n",
       "    }\n",
       "\n",
       "    .dataframe thead th {\n",
       "        text-align: right;\n",
       "    }\n",
       "</style>\n",
       "<table border=\"1\" class=\"dataframe\">\n",
       "  <thead>\n",
       "    <tr style=\"text-align: right;\">\n",
       "      <th></th>\n",
       "      <th>Unnamed: 0</th>\n",
       "      <th>rxn_smiles</th>\n",
       "      <th>maccs</th>\n",
       "      <th>max_maccs_sim</th>\n",
       "    </tr>\n",
       "  </thead>\n",
       "  <tbody>\n",
       "    <tr>\n",
       "      <th>0</th>\n",
       "      <td>0</td>\n",
       "      <td>Brc1ccccc1.OB(O)c1ccccc1&gt;&gt;c1ccc(-c2ccccc2)cc1</td>\n",
       "      <td>[[0, 0, 0, 0, 0, 0, 0, 0, 0, 0, 0, 0, 0, 0, 0,...</td>\n",
       "      <td>1.0</td>\n",
       "    </tr>\n",
       "  </tbody>\n",
       "</table>\n",
       "</div>"
      ],
      "text/plain": [
       "   Unnamed: 0                                     rxn_smiles  \\\n",
       "0           0  Brc1ccccc1.OB(O)c1ccccc1>>c1ccc(-c2ccccc2)cc1   \n",
       "\n",
       "                                               maccs  max_maccs_sim  \n",
       "0  [[0, 0, 0, 0, 0, 0, 0, 0, 0, 0, 0, 0, 0, 0, 0,...            1.0  "
      ]
     },
     "execution_count": 45,
     "metadata": {},
     "output_type": "execute_result"
    }
   ],
   "source": [
    "data_generate.head(1)"
   ]
  },
  {
   "cell_type": "code",
   "execution_count": 46,
   "id": "2ea40b53",
   "metadata": {},
   "outputs": [],
   "source": [
    "import matplotlib.pyplot as plt\n",
    "import seaborn as sns"
   ]
  },
  {
   "cell_type": "code",
   "execution_count": 47,
   "id": "de9a80c9",
   "metadata": {},
   "outputs": [
    {
     "data": {
      "text/plain": [
       "Text(0.5, 1.0, 'Histogram of generated reactions similarity')"
      ]
     },
     "execution_count": 47,
     "metadata": {},
     "output_type": "execute_result"
    },
    {
     "data": {
      "image/png": "[encoded data removed]",
      "text/plain": [
       "<Figure size 500x500 with 1 Axes>"
      ]
     },
     "metadata": {},
     "output_type": "display_data"
    }
   ],
   "source": [
    "sns.displot(data=data_generate['max_maccs_sim'].to_numpy())\n",
    "# plt.legend()\n",
    "plt.xlabel('S$_{MACCS\\_Dice}$')\n",
    "plt.title('Histogram of generated reactions similarity')"
   ]
  },
  {
   "cell_type": "code",
   "execution_count": 65,
   "id": "b6ab7d44",
   "metadata": {},
   "outputs": [
    {
     "data": {
      "image/png": "[encoded data removed]",
      "text/plain": [
       "<Figure size 500x500 with 1 Axes>"
      ]
     },
     "metadata": {},
     "output_type": "display_data"
    }
   ],
   "source": [
    "sns.displot(data=data_generate['max_maccs_sim'].to_numpy())\n",
    "plt.xlabel('S$_{MACCS\\_Dice}$',fontsize=18)\n",
    "plt.ylabel('Count',fontsize=18)\n",
    "plt.tick_params(axis='both', which='major', labelsize=16)\n",
    "plt.title('Histogram of generated reactions similarity',fontsize=18,pad=20)\n",
    "plt.savefig('Figure 4a(MACCS).jpg',dpi=600,bbox_inches='tight')"
   ]
  },
  {
   "cell_type": "code",
   "execution_count": 49,
   "id": "89cfb305",
   "metadata": {},
   "outputs": [
    {
     "data": {
      "text/plain": [
       "Text(0.5, 1.0, 'pdf of generated reactions similarity')"
      ]
     },
     "execution_count": 49,
     "metadata": {},
     "output_type": "execute_result"
    },
    {
     "data": {
      "image/png": "[encoded data removed]",
      "text/plain": [
       "<Figure size 800x600 with 1 Axes>"
      ]
     },
     "metadata": {},
     "output_type": "display_data"
    }
   ],
   "source": [
    "sns.kdeplot(data=data_generate['max_maccs_sim'].to_numpy(), bw_adjust=.2)\n",
    "plt.xlabel('S$_{MACCS\\_Dice}$')\n",
    "plt.title('pdf of generated reactions similarity')"
   ]
  },
  {
   "cell_type": "markdown",
   "id": "1b4a447c",
   "metadata": {},
   "source": [
    "##### Get sim for new reaction"
   ]
  },
  {
   "cell_type": "code",
   "execution_count": 21,
   "metadata": {},
   "outputs": [],
   "source": [
    "from rdkit.Chem import rdChemReactions\n",
    "from rdkit.Chem.rdChemReactions import RemoveMappingNumbersFromReactions\n",
    "#from similarity_v1 import get_max_similarity_1\n",
    "def get_max_similarity_1(rxn,rxn_list):\n",
    "    sim_list=[]\n",
    "    for j in rxn_list:\n",
    "        sim=cal_rxn_dice_similarity(rxn,j)\n",
    "        if sim!=1:\n",
    "            sim_list.append(sim)\n",
    "    max_sim=max(sim_list)\n",
    "    return max_sim\n",
    "\n",
    "def get_sim_for_new_reaction(rxn):\n",
    "    rxn = AllChem.ReactionFromSmarts(rxn,useSmiles=True)\n",
    "    rxn1=RemoveMappingNumbersFromReactions(rxn)\n",
    "    rxn=AllChem.ReactionToSmiles(rxn)\n",
    "    print(rxn)\n",
    "    maccs=get_rxn_maccs(rxn)\n",
    "    sim=get_max_similarity_1(maccs,emb_list)\n",
    "    return sim"
   ]
  },
  {
   "cell_type": "code",
   "execution_count": 22,
   "id": "b363c84c",
   "metadata": {},
   "outputs": [],
   "source": [
    "def get_max_similarity_uspto(rxn,rxn_list):\n",
    "    sim_list=[]\n",
    "    for j in rxn_list:\n",
    "        sim=cal_rxn_dice_similarity(rxn,j)\n",
    "        sim_list.append(sim)\n",
    "        if sim==1:\n",
    "            break\n",
    "    max_sim=max(sim_list)\n",
    "    return max_sim\n",
    "\n",
    "def get_sim_for_uspto_reaction(rxn):\n",
    "    rxn = AllChem.ReactionFromSmarts(rxn,useSmiles=True)\n",
    "    rxn1=RemoveMappingNumbersFromReactions(rxn)\n",
    "    rxn=AllChem.ReactionToSmiles(rxn)\n",
    "    #print(rxn)\n",
    "    maccs=get_rxn_maccs(rxn)\n",
    "    sim=get_max_similarity_uspto(maccs,emb_list)\n",
    "    return sim"
   ]
  },
  {
   "cell_type": "code",
   "execution_count": 35,
   "id": "2ee30701",
   "metadata": {},
   "outputs": [],
   "source": [
    "data_uspto=pd.read_csv('/home/cbe/AI4CHEM/reaction_predict/suzuki_from_uspto.csv')"
   ]
  },
  {
   "cell_type": "code",
   "execution_count": 36,
   "id": "ebde914d",
   "metadata": {},
   "outputs": [
    {
     "name": "stderr",
     "output_type": "stream",
     "text": [
      "100%|██████████| 1870/1870 [05:25<00:00,  5.74it/s]\n"
     ]
    }
   ],
   "source": [
    "data_uspto['max_sim']=data_uspto['rxn_smiles'].progress_apply(lambda x: get_sim_for_uspto_reaction(x))"
   ]
  },
  {
   "cell_type": "code",
   "execution_count": 37,
   "id": "2ea35da7",
   "metadata": {},
   "outputs": [
    {
     "data": {
      "text/plain": [
       "count    1870.000000\n",
       "mean        0.954618\n",
       "std         0.045480\n",
       "min         0.791128\n",
       "25%         0.920786\n",
       "50%         0.960935\n",
       "75%         1.000000\n",
       "max         1.000000\n",
       "Name: max_sim, dtype: float64"
      ]
     },
     "execution_count": 37,
     "metadata": {},
     "output_type": "execute_result"
    }
   ],
   "source": [
    "data_uspto['max_sim'].describe()"
   ]
  },
  {
   "cell_type": "code",
   "execution_count": 39,
   "id": "d47b3262",
   "metadata": {},
   "outputs": [
    {
     "data": {
      "text/plain": [
       "Text(0.5, 1.0, 'Histogram of uspto reactions similarity')"
      ]
     },
     "execution_count": 39,
     "metadata": {},
     "output_type": "execute_result"
    },
    {
     "data": {
      "image/png": "[encoded data removed]",
      "text/plain": [
       "<Figure size 500x500 with 1 Axes>"
      ]
     },
     "metadata": {},
     "output_type": "display_data"
    }
   ],
   "source": [
    "sns.displot(data=data_uspto['max_sim'].to_numpy())\n",
    "# plt.legend()\n",
    "plt.xlabel('S$_{MACCS\\_Dice}$')\n",
    "plt.title('Histogram of uspto reactions similarity')"
   ]
  },
  {
   "cell_type": "markdown",
   "id": "bc9744a5",
   "metadata": {},
   "source": [
    "##### Protecting groups analysis"
   ]
  },
  {
   "cell_type": "code",
   "execution_count": 52,
   "id": "16cb2011",
   "metadata": {},
   "outputs": [
    {
     "data": {
      "text/plain": [
       "115344"
      ]
     },
     "execution_count": 52,
     "metadata": {},
     "output_type": "execute_result"
    }
   ],
   "source": [
    "len(emb_list)"
   ]
  },
  {
   "cell_type": "markdown",
   "id": "cf61b77a",
   "metadata": {},
   "source": [
    "#### Suzuki with aldehyde groups"
   ]
  },
  {
   "cell_type": "code",
   "execution_count": 23,
   "id": "ca189c1d-8f24-46c6-ab0c-dfab254474bf",
   "metadata": {},
   "outputs": [
    {
     "name": "stdout",
     "output_type": "stream",
     "text": [
      "COc1ccc(-c2ccc(B(O)O)cc2)cc1.O=Cc1sccc1Br>>COc1ccc(-c2ccc(-c3ccsc3C=O)cc2)cc1\n"
     ]
    },
    {
     "data": {
      "text/plain": [
       "0.927170868347339"
      ]
     },
     "execution_count": 23,
     "metadata": {},
     "output_type": "execute_result"
    }
   ],
   "source": [
    "get_sim_for_new_reaction('[CH3:1][O:2][c:3]1[cH:4][cH:5][c:6]([cH:7][cH:8]1)-[c:9]1[cH:10][cH:11][c:12]([cH:13][cH:14]1)B(O)O.[O:15]=[CH:16][c:17]1[s:18][cH:19][cH:20][c:21]1Br>>[CH3:1][O:2][c:3]1[cH:8][cH:7][c:6]([cH:5][cH:4]1)-[c:9]1[cH:14][cH:13][c:12]([cH:11][cH:10]1)-[c:21]1[cH:20][cH:19][s:18][c:17]1[CH:16]=[O:15]')"
   ]
  },
  {
   "cell_type": "code",
   "execution_count": 24,
   "metadata": {},
   "outputs": [
    {
     "name": "stdout",
     "output_type": "stream",
     "text": [
      "Brc1ccsc1C1OCCO1.COc1ccc(c2ccc(B(O)O)cc2)cc1>>COc1ccc(c2ccc(c3ccsc3C3OCCO3)cc2)cc1\n"
     ]
    },
    {
     "data": {
      "text/plain": [
       "0.8828086571569109"
      ]
     },
     "execution_count": 24,
     "metadata": {},
     "output_type": "execute_result"
    }
   ],
   "source": [
    "get_sim_for_new_reaction('[CH3:1][O:2][c:3]1[cH:8][cH:7][c:6]([c:9]2[cH:14][cH:13][c:12](B(O)O)[cH:11][cH:10]2)[cH:5][cH:4]1.Br[c:20]3[c:16]([CH:15]4OCCO4)[s:17][cH:18][cH:19]3>>[CH3:1][O:2][c:3]5[cH:4][cH:5][c:6]([c:9]6[cH:10][cH:11][c:12]([c:20]7[c:16]([CH:15]8OCCO8)[s:17][cH:18][cH:19]7)[cH:13][cH:14]6)[cH:7][cH:8]5')"
   ]
  },
  {
   "cell_type": "code",
   "execution_count": null,
   "metadata": {},
   "outputs": [],
   "source": []
  },
  {
   "cell_type": "code",
   "execution_count": 25,
   "metadata": {},
   "outputs": [
    {
     "name": "stdout",
     "output_type": "stream",
     "text": [
      "CC(=O)c1c(Br)[nH]c(-c2ccncc2)c1C.OB(O)c1ccc(F)cc1>>CC(=O)c1c(-c2ccc(F)cc2)[nH]c(-c2ccncc2)c1C\n"
     ]
    },
    {
     "data": {
      "text/plain": [
       "0.8898580121703854"
      ]
     },
     "execution_count": 25,
     "metadata": {},
     "output_type": "execute_result"
    }
   ],
   "source": [
    "get_sim_for_new_reaction('[CH3:1][C:2](=[O:3])[c:4]1[c:5]([c:6]([nH:7][c:8]1Br)-[c:9]1[cH:10][cH:11][n:12][cH:13][cH:14]1)[CH3:15].OB(O)[c:16]1[cH:17][cH:18][c:19]([cH:20][cH:21]1)[F:22]>>[CH3:1][C:2](=[O:3])[c:4]1[c:5]([c:6]([nH:7][c:8]1-[c:16]1[cH:17][cH:18][c:19]([cH:20][cH:21]1)[F:22])-[c:9]1[cH:10][cH:11][n:12][cH:13][cH:14]1)[CH3:15]')"
   ]
  },
  {
   "cell_type": "code",
   "execution_count": 26,
   "id": "1bd63d8a-d27c-4111-aeff-c3adc454beb5",
   "metadata": {},
   "outputs": [
    {
     "name": "stdout",
     "output_type": "stream",
     "text": [
      "Cc1c(C2(C)OCCO2)c(Br)[nH]c1c1ccncc1.OB(O)c1ccc(F)cc1>>Cc1c(C2(C)OCCO2)c(c2ccc(F)cc2)[nH]c1c1ccncc1\n"
     ]
    },
    {
     "data": {
      "text/plain": [
       "0.8399267399267399"
      ]
     },
     "execution_count": 26,
     "metadata": {},
     "output_type": "execute_result"
    }
   ],
   "source": [
    "get_sim_for_new_reaction('[CH3:1][C:2]1(OCCO1)[c:3]2[c:7](Br)[nH:6][c:5]([c:8]3[cH:13][cH:12][n:11][cH:10][cH:9]3)[c:4]2[CH3:14].OB([c:15]4[cH:20][cH:19][c:18]([F:21])[cH:17][cH:16]4)O>>[CH3:1][C:2]5(OCCO5)[c:3]6[c:7]([c:15]7[cH:20][cH:19][c:18]([F:21])[cH:17][cH:16]7)[nH:6][c:5]([c:8]8[cH:13][cH:12][n:11][cH:10][cH:9]8)[c:4]6[CH3:14]')"
   ]
  },
  {
   "cell_type": "code",
   "execution_count": null,
   "id": "bc2c9fc1-295b-4477-af2a-6b04f6f0bdb7",
   "metadata": {},
   "outputs": [],
   "source": []
  },
  {
   "cell_type": "code",
   "execution_count": 27,
   "metadata": {},
   "outputs": [
    {
     "name": "stdout",
     "output_type": "stream",
     "text": [
      "COc1ccc(B(O)O)cc1.Cc1c(I)sc(C=O)c1Br>>Cc1c(-c2ccc(O)cc2)sc(C=O)c1-c1ccc(O)cc1\n"
     ]
    },
    {
     "data": {
      "text/plain": [
       "0.927170868347339"
      ]
     },
     "execution_count": 27,
     "metadata": {},
     "output_type": "execute_result"
    }
   ],
   "source": [
    "get_sim_for_new_reaction('[CH3:1][c:2]1[c:3]([c:4]([s:5][c:6]1I)[CH:7]=[O:8])Br.C[O:9][c:10]1[cH:11][cH:12][c:13]([cH:14][cH:15]1)B(O)O>>[CH3:1][c:2]1[c:6]([s:5][c:4]([c:3]1-[c:13]1[cH:14][cH:15][c:10]([cH:11][cH:12]1)[OH:9])[CH:7]=[O:8])-[c:13]1[cH:14][cH:15][c:10]([cH:11][cH:12]1)[OH:9]')"
   ]
  },
  {
   "cell_type": "code",
   "execution_count": 28,
   "metadata": {},
   "outputs": [
    {
     "name": "stdout",
     "output_type": "stream",
     "text": [
      "COc1ccc(B(O)O)cc1.Cc1c(I)sc(C2OCCO2)c1Br>>Cc1c(c2ccc(O)cc2)sc(C2OCCO2)c1c1ccc(O)cc1\n"
     ]
    },
    {
     "data": {
      "text/plain": [
       "0.8825396825396825"
      ]
     },
     "execution_count": 28,
     "metadata": {},
     "output_type": "execute_result"
    }
   ],
   "source": [
    "get_sim_for_new_reaction('[CH3:1][c:2]1[c:6](I)[s:5][c:4]([CH:7]2OCCO2)[c:3]1Br.COc3ccc(B(O)O)cc3>>[CH3:1][c:2]4[c:3](c5ccc(O)cc5)[c:4]([CH:7]6OCCO6)[s:5][c:6]4c7ccc(O)cc7')"
   ]
  },
  {
   "cell_type": "markdown",
   "id": "1e93a7ae",
   "metadata": {},
   "source": [
    "#### Suzuki with NH2"
   ]
  },
  {
   "cell_type": "code",
   "execution_count": 31,
   "metadata": {},
   "outputs": [
    {
     "name": "stdout",
     "output_type": "stream",
     "text": [
      "Cc1cc(C)c(N)c(Br)c1.OB(O)c1ccccc1>>Cc1cc(C)c(N)c(-c2ccccc2)c1\n"
     ]
    },
    {
     "data": {
      "text/plain": [
       "0.9782515991471215"
      ]
     },
     "execution_count": 31,
     "metadata": {},
     "output_type": "execute_result"
    }
   ],
   "source": [
    "get_sim_for_new_reaction('[CH3:1][c:2]1[cH:3][c:4]([c:5]([c:6]([cH:7]1)Br)[NH2:8])[CH3:9].OB(O)[c:10]1[cH:11][cH:12][cH:13][cH:14][cH:15]1>>[CH3:1][c:2]1[cH:7][c:6]([c:5]([c:4]([cH:3]1)[CH3:9])[NH2:8])-[c:10]1[cH:11][cH:12][cH:13][cH:14][cH:15]1')"
   ]
  },
  {
   "cell_type": "code",
   "execution_count": 32,
   "id": "712056a2",
   "metadata": {},
   "outputs": [
    {
     "name": "stdout",
     "output_type": "stream",
     "text": [
      "Cc1cc(C)c(N)c(Br)c1.OB(O)c1ccccc1>>Cc1cc(C)c(N)c(-c2ccccc2)c1\n"
     ]
    },
    {
     "data": {
      "text/plain": [
       "0.9782515991471215"
      ]
     },
     "execution_count": 32,
     "metadata": {},
     "output_type": "execute_result"
    }
   ],
   "source": [
    "get_sim_for_new_reaction('Cc1cc(C)c(N)c(Br)c1.OB(O)c1ccccc1>>Cc1cc(C)c(N)c(-c2ccccc2)c1')"
   ]
  },
  {
   "cell_type": "code",
   "execution_count": 33,
   "id": "a18e1846",
   "metadata": {},
   "outputs": [
    {
     "name": "stdout",
     "output_type": "stream",
     "text": [
      "Cc1cc(C)c(NC(=O)OCC2=CC=CC=C2)c(Br)c1.OB(O)c1ccccc1>>Cc1cc(C)c(NC(=O)OCC2=CC=CC=C2)c(c2ccccc2)c1\n"
     ]
    },
    {
     "data": {
      "text/plain": [
       "0.8778424114225277"
      ]
     },
     "execution_count": 33,
     "metadata": {},
     "output_type": "execute_result"
    }
   ],
   "source": [
    "get_sim_for_new_reaction('Cc1cc(Br)c(NC(OCC2=CC=CC=C2)=O)c(C)c1.OB(c1ccccc1)O>>Cc1cc(c2ccccc2)c(NC(OCC3=CC=CC=C3)=O)c(C)c1')"
   ]
  },
  {
   "cell_type": "markdown",
   "id": "2065d230",
   "metadata": {},
   "source": [
    "##### Example 2"
   ]
  },
  {
   "cell_type": "code",
   "execution_count": 34,
   "id": "f9f636ab",
   "metadata": {},
   "outputs": [
    {
     "name": "stdout",
     "output_type": "stream",
     "text": [
      "Nc1cccnc1Cl.OB(O)c1ccccc1>>Nc1cccnc1-c1ccccc1\n"
     ]
    },
    {
     "data": {
      "text/plain": [
       "0.9683720930232558"
      ]
     },
     "execution_count": 34,
     "metadata": {},
     "output_type": "execute_result"
    }
   ],
   "source": [
    "get_sim_for_new_reaction('[NH2:1][c:2]1[cH:3][cH:4][cH:5][n:6][c:7]1Cl.OB(O)[c:8]1[cH:9][cH:10][cH:11][cH:12][cH:13]1>>[NH2:1][c:2]1[cH:3][cH:4][cH:5][n:6][c:7]1-[c:8]1[cH:9][cH:10][cH:11][cH:12][cH:13]1')"
   ]
  },
  {
   "cell_type": "code",
   "execution_count": 35,
   "id": "3b27dee9",
   "metadata": {},
   "outputs": [
    {
     "name": "stdout",
     "output_type": "stream",
     "text": [
      "O=C(Nc1cccnc1Cl)OCC1=CC=CC=C1.OB(O)c1ccccc1>>O=C(Nc1cccnc1c1ccccc1)OCC1=CC=CC=C1\n"
     ]
    },
    {
     "data": {
      "text/plain": [
       "0.8721122112211221"
      ]
     },
     "execution_count": 35,
     "metadata": {},
     "output_type": "execute_result"
    }
   ],
   "source": [
    "get_sim_for_new_reaction('Cl[c:7]1[c:2]([NH:1]C(OCC2=CC=CC=C2)=O)[cH:3][cH:4][cH:5][n:6]1.OB([c:8]3[cH:13][cH:12][cH:11][cH:10][cH:9]3)O>>O=C(OCC4=CC=CC=C4)[NH:1][c:2]5[c:7]([c:8]6[cH:13][cH:12][cH:11][cH:10][cH:9]6)[n:6][cH:5][cH:4][cH:3]5')"
   ]
  },
  {
   "cell_type": "markdown",
   "id": "254acd08",
   "metadata": {},
   "source": [
    "#### Suzuki with OH"
   ]
  },
  {
   "cell_type": "markdown",
   "id": "6be450e1",
   "metadata": {},
   "source": [
    "#### Example1"
   ]
  },
  {
   "cell_type": "code",
   "execution_count": 43,
   "id": "49d9cc51",
   "metadata": {},
   "outputs": [
    {
     "name": "stdout",
     "output_type": "stream",
     "text": [
      "OB(O)c1ccc(Cl)c(Cl)c1.OCc1cc(I)c(OCC2CC2)c(Cl)n1>>OCc1cc(-c2ccc(Cl)c(Cl)c2)c(OCC2CC2)c(Cl)n1\n"
     ]
    },
    {
     "data": {
      "text/plain": [
       "0.9233769852326554"
      ]
     },
     "execution_count": 43,
     "metadata": {},
     "output_type": "execute_result"
    }
   ],
   "source": [
    "get_sim_for_new_reaction('[OH:1][CH2:2][c:3]1[cH:4][c:5]([c:6]([c:7]([n:8]1)[Cl:9])[O:10][CH2:11][CH:12]1[CH2:13][CH2:14]1)I.OB(O)[c:15]1[cH:16][cH:17][c:18]([c:19]([cH:20]1)[Cl:21])[Cl:22]>>[OH:1][CH2:2][c:3]1[cH:4][c:5]([c:6]([c:7]([n:8]1)[Cl:9])[O:10][CH2:11][CH:12]1[CH2:13][CH2:14]1)-[c:15]1[cH:16][cH:17][c:18]([c:19]([cH:20]1)[Cl:21])[Cl:22]')"
   ]
  },
  {
   "cell_type": "code",
   "execution_count": 37,
   "id": "797e2ffa",
   "metadata": {},
   "outputs": [
    {
     "name": "stdout",
     "output_type": "stream",
     "text": [
      "Clc1nc(COC2CCCCO2)cc(I)c1OCC1CC1.OB(O)c1ccc(Cl)c(Cl)c1>>Clc1ccc(c2cc(COC3CCCCO3)nc(Cl)c2OCC2CC2)cc1Cl\n"
     ]
    },
    {
     "data": {
      "text/plain": [
       "0.9090573921592724"
      ]
     },
     "execution_count": 37,
     "metadata": {},
     "output_type": "execute_result"
    }
   ],
   "source": [
    "get_sim_for_new_reaction('[Cl:9][c:7]1[n:8][c:3]([CH2:2][O:1]C2CCCCO2)[cH:4][c:5](I)[c:6]1[O:10][CH2:11][CH:12]3[CH2:13][CH2:14]3.OB([c:15]4[cH:20][c:19]([Cl:21])[c:18]([Cl:22])[cH:17][cH:16]4)O>>[Cl:9][c:7]5[n:8][c:3]([CH2:2][O:1]C6CCCCO6)[cH:4][c:5]([c:15]7[cH:20][c:19]([Cl:21])[c:18]([Cl:22])[cH:17][cH:16]7)[c:6]5[O:10][CH2:11][CH:12]8[CH2:13][CH2:14]8')"
   ]
  },
  {
   "cell_type": "markdown",
   "id": "65742e03",
   "metadata": {},
   "source": [
    "##### Example 2"
   ]
  },
  {
   "cell_type": "code",
   "execution_count": 38,
   "id": "39bc06a1",
   "metadata": {},
   "outputs": [
    {
     "name": "stdout",
     "output_type": "stream",
     "text": [
      "N#Cc1ccc(O)c(I)c1.OB(O)c1ccccc1>>N#Cc1ccc(O)c(-c2ccccc2)c1\n"
     ]
    },
    {
     "data": {
      "text/plain": [
       "0.9626373626373627"
      ]
     },
     "execution_count": 38,
     "metadata": {},
     "output_type": "execute_result"
    }
   ],
   "source": [
    "get_sim_for_new_reaction('[N:1]#[C:2][c:3]1[cH:4][cH:5][c:6]([c:7]([cH:8]1)I)[OH:9].OB(O)[c:10]1[cH:11][cH:12][cH:13][cH:14][cH:15]1>>[N:1]#[C:2][c:3]1[cH:4][cH:5][c:6]([c:7]([cH:8]1)-[c:10]1[cH:15][cH:14][cH:13][cH:12][cH:11]1)[OH:9]')"
   ]
  },
  {
   "cell_type": "code",
   "execution_count": 39,
   "id": "e93b7b4e",
   "metadata": {},
   "outputs": [
    {
     "name": "stdout",
     "output_type": "stream",
     "text": [
      "N#Cc1ccc(OC2CCCCO2)c(I)c1.OB(O)c1ccccc1>>N#Cc1ccc(OC2CCCCO2)c(c2ccccc2)c1\n"
     ]
    },
    {
     "data": {
      "text/plain": [
       "0.9242937853107345"
      ]
     },
     "execution_count": 39,
     "metadata": {},
     "output_type": "execute_result"
    }
   ],
   "source": [
    "get_sim_for_new_reaction('[N:1]#[C:2][c:3]1[cH:8][c:7](I)[c:6]([O:9]C2CCCCO2)[cH:5][cH:4]1.OB([c:10]3[cH:15][cH:14][cH:13][cH:12][cH:11]3)O>>[N:1]#[C:2][c:3]4[cH:8][c:7]([c:10]5[cH:11][cH:12][cH:13][cH:14][cH:15]5)[c:6]([O:9]C6OCCCC6)[cH:5][cH:4]4')"
   ]
  },
  {
   "cell_type": "markdown",
   "id": "16698549",
   "metadata": {},
   "source": [
    "#####  重氮化合物保护(Suzuki Coupling of Protected Aryl Diazonium Ions: Expanding the Knowledge of Triazabutadiene Compatible Reactions)"
   ]
  },
  {
   "cell_type": "code",
   "execution_count": 40,
   "id": "0ba1cf04",
   "metadata": {},
   "outputs": [
    {
     "name": "stdout",
     "output_type": "stream",
     "text": [
      "CN1C=CN(C(C)(C)C)/C1=N/N=N/C1=CC=C(Br)C=C1.OB(O)C1=CC=CC=C1>>CN1C=CN(C(C)(C)C)/C1=N/N=N/C1=CC=C(C2=CC=CC=C2)C=C1\n"
     ]
    },
    {
     "data": {
      "text/plain": [
       "0.9009818999171891"
      ]
     },
     "execution_count": 40,
     "metadata": {},
     "output_type": "execute_result"
    }
   ],
   "source": [
    "## protection\n",
    "get_sim_for_new_reaction('BrC1=CC=C(/N=N/N=C2N(C(C)(C)C)C=CN/2C)C=C1.OB(O)C1=CC=CC=C1>>CN1C=CN(C(C)(C)C)/C1=N/N=N/C2=CC=C(C3=CC=CC=C3)C=C2')"
   ]
  },
  {
   "cell_type": "code",
   "execution_count": 41,
   "id": "33609c24",
   "metadata": {},
   "outputs": [
    {
     "name": "stdout",
     "output_type": "stream",
     "text": [
      "N#[N+]C1=CC=C(Br)C=C1.OB(O)C1=CC=CC=C1>>N#[N+]C1=CC=C(C2=CC=CC=C2)C=C1\n"
     ]
    },
    {
     "data": {
      "text/plain": [
       "0.8428571428571429"
      ]
     },
     "execution_count": 41,
     "metadata": {},
     "output_type": "execute_result"
    }
   ],
   "source": [
    "# no protection\n",
    "get_sim_for_new_reaction('N#[N+]C1=CC=C(Br)C=C1.OB(O)C1=CC=CC=C1>>N#[N+]C1=CC=C(C2=CC=CC=C2)C=C1')"
   ]
  },
  {
   "cell_type": "markdown",
   "id": "112b2463",
   "metadata": {},
   "source": [
    "#### Examples  from Chemarxiv(no bomo)"
   ]
  },
  {
   "cell_type": "markdown",
   "id": "e2af0400",
   "metadata": {},
   "source": [
    "##### True"
   ]
  },
  {
   "cell_type": "code",
   "execution_count": 47,
   "id": "79b216a6",
   "metadata": {},
   "outputs": [
    {
     "name": "stdout",
     "output_type": "stream",
     "text": [
      "BrC1=CC=CN=C1.CC12CC(C(B3OC(C)(C)C(C)(C)O3)B3OC(C)(C)C(C)(C)O3)(C1)C2>>CC12CC(CC3=CC=CN=C3)(C1)C2\n"
     ]
    },
    {
     "data": {
      "text/plain": [
       "0.7903757415952538"
      ]
     },
     "execution_count": 47,
     "metadata": {},
     "output_type": "execute_result"
    }
   ],
   "source": [
    "# 54 99%\n",
    "get_sim_for_new_reaction('CC(C(C)(C)O1)(C)OB1C(B2OC(C)(C)C(C)(C)O2)C3(C4)CC4(C)C3.BrC1=CC=CN=C1>>CC1(C2)CC2(CC3=CC=CN=C3)C1')"
   ]
  },
  {
   "cell_type": "code",
   "execution_count": 48,
   "id": "0f5ed6be",
   "metadata": {},
   "outputs": [
    {
     "name": "stdout",
     "output_type": "stream",
     "text": [
      "BrC1=CC=NC=C1.CC12CC(C(B3OC(C)(C)C(C)(C)O3)B3OC(C)(C)C(C)(C)O3)(C1)C2>>CC12CC(CC3=CC=NC=C3)(C1)C2\n"
     ]
    },
    {
     "data": {
      "text/plain": [
       "0.7903757415952538"
      ]
     },
     "execution_count": 48,
     "metadata": {},
     "output_type": "execute_result"
    }
   ],
   "source": [
    "#\n",
    "get_sim_for_new_reaction('CC(C(C)(C)O1)(C)OB1C(B2OC(C)(C)C(C)(C)O2)C3(C4)CC4(C)C3.BrC1=CC=NC=C1>>CC1(C2)CC2(CC3=CC=NC=C3)C1')"
   ]
  },
  {
   "cell_type": "code",
   "execution_count": 49,
   "id": "5385baa2",
   "metadata": {},
   "outputs": [
    {
     "name": "stdout",
     "output_type": "stream",
     "text": [
      "BrC1=NC=CC=N1.CC12CC(C(B3OC(C)(C)C(C)(C)O3)B3OC(C)(C)C(C)(C)O3)(C1)C2>>CC12CC(CC3=NC=CC=N3)(C1)C2\n"
     ]
    },
    {
     "data": {
      "text/plain": [
       "0.8201146679407549"
      ]
     },
     "execution_count": 49,
     "metadata": {},
     "output_type": "execute_result"
    }
   ],
   "source": [
    "##56 39%\n",
    "get_sim_for_new_reaction('CC(C(C)(C)O1)(C)OB1C(B2OC(C)(C)C(C)(C)O2)C3(C4)CC4(C)C3.BrC1=NC=CC=N1>>CC1(C2)CC2(CC3=NC=CC=N3)C1')"
   ]
  },
  {
   "cell_type": "code",
   "execution_count": 42,
   "id": "e4ef17e6",
   "metadata": {},
   "outputs": [
    {
     "name": "stdout",
     "output_type": "stream",
     "text": [
      "BrC1=CC2=C(C=CC=C2)N=C1.CC12CC(C(B3OC(C)(C)C(C)(C)O3)B3OC(C)(C)C(C)(C)O3)(C1)C2>>CC12CC(CC3=CC4=C(C=CC=C4)N=C3)(C1)C2\n"
     ]
    },
    {
     "data": {
      "text/plain": [
       "0.8528624933119315"
      ]
     },
     "execution_count": 42,
     "metadata": {},
     "output_type": "execute_result"
    }
   ],
   "source": [
    "##61 90%\n",
    "get_sim_for_new_reaction('CC(C(C)(C)O1)(C)OB1C(B2OC(C)(C)C(C)(C)O2)C3(C4)CC4(C)C3.BrC1=CC(C=CC=C2)=C2N=C1>>CC1(C2)CC2(CC3=CC(C=CC=C4)=C4N=C3)C1 ')"
   ]
  },
  {
   "cell_type": "markdown",
   "id": "0a79d595",
   "metadata": {},
   "source": [
    "##### Unsucessful examples"
   ]
  },
  {
   "cell_type": "code",
   "execution_count": 35,
   "id": "72f2d82d",
   "metadata": {},
   "outputs": [
    {
     "name": "stdout",
     "output_type": "stream",
     "text": [
      "BrC1=COC=N1.CC12CC(C(B3OC(C)(C)C(C)(C)O3)B3OC(C)(C)C(C)(C)O3)(C1)C2>>CC12CC(CC3=COC=N3)(C1)C2\n"
     ]
    },
    {
     "data": {
      "text/plain": [
       "0.7765151515151515"
      ]
     },
     "execution_count": 35,
     "metadata": {},
     "output_type": "execute_result"
    }
   ],
   "source": [
    "get_sim_for_new_reaction('CC(C(C)(C)O1)(C)OB1C(B2OC(C)(C)C(C)(C)O2)C3(C4)CC4(C)C3.BrC1=COC=N1>>CC1(C2)CC2(CC3=COC=N3)C1')"
   ]
  },
  {
   "cell_type": "code",
   "execution_count": 36,
   "id": "4c4cb26d",
   "metadata": {},
   "outputs": [
    {
     "name": "stdout",
     "output_type": "stream",
     "text": [
      "BrC1=CSC=N1.CC12CC(C(B3OC(C)(C)C(C)(C)O3)B3OC(C)(C)C(C)(C)O3)(C1)C2>>CC12CC(CC3=CSC=N3)(C1)C2\n"
     ]
    },
    {
     "data": {
      "text/plain": [
       "0.7796442687747036"
      ]
     },
     "execution_count": 36,
     "metadata": {},
     "output_type": "execute_result"
    }
   ],
   "source": [
    "get_sim_for_new_reaction('CC(C(C)(C)O1)(C)OB1C(B2OC(C)(C)C(C)(C)O2)C3(C4)CC4(C)C3.BrC1=CSC=N1>>CC1(C2)CC2(CC3=CSC=N3)C1')"
   ]
  },
  {
   "cell_type": "code",
   "execution_count": 37,
   "id": "826fa40a",
   "metadata": {},
   "outputs": [
    {
     "name": "stdout",
     "output_type": "stream",
     "text": [
      "BrC1=NN=NC1.CC12CC(C(B3OC(C)(C)C(C)(C)O3)B3OC(C)(C)C(C)(C)O3)(C1)C2>>CC12CC(CC3C=NN=N3)(C1)C2\n"
     ]
    },
    {
     "data": {
      "text/plain": [
       "0.7206388975884748"
      ]
     },
     "execution_count": 37,
     "metadata": {},
     "output_type": "execute_result"
    }
   ],
   "source": [
    "get_sim_for_new_reaction('CC(C(C)(C)O1)(C)OB1C(B2OC(C)(C)C(C)(C)O2)C3(C4)CC4(C)C3.BrC1=NN=NC1>>CC1(C2)CC2(CC3N=NN=C3)C1')"
   ]
  },
  {
   "cell_type": "code",
   "execution_count": 39,
   "id": "907cb3da",
   "metadata": {},
   "outputs": [
    {
     "name": "stdout",
     "output_type": "stream",
     "text": [
      "BrC1N=CN=N1.CC12CC(C(B3OC(C)(C)C(C)(C)O3)B3OC(C)(C)C(C)(C)O3)(C1)C2>>CC12CC(CC3N=CN=N3)(C1)C2\n"
     ]
    },
    {
     "data": {
      "text/plain": [
       "0.7143852316266109"
      ]
     },
     "execution_count": 39,
     "metadata": {},
     "output_type": "execute_result"
    }
   ],
   "source": [
    "get_sim_for_new_reaction('CC(C(C)(C)O1)(C)OB1C(B2OC(C)(C)C(C)(C)O2)C3(C4)CC4(C)C3.BrC1N=CN=N1>>CC1(C2)CC2(CC3N=NC=N3)C1')"
   ]
  },
  {
   "cell_type": "code",
   "execution_count": 38,
   "id": "804c9f79",
   "metadata": {},
   "outputs": [
    {
     "name": "stdout",
     "output_type": "stream",
     "text": [
      "BrC1N=NN=N1.CC12CC(C(B3OC(C)(C)C(C)(C)O3)B3OC(C)(C)C(C)(C)O3)(C1)C2>>CC12CC(CC3N=NN=N3)(C1)C2\n"
     ]
    },
    {
     "data": {
      "text/plain": [
       "0.7325806451612903"
      ]
     },
     "execution_count": 38,
     "metadata": {},
     "output_type": "execute_result"
    }
   ],
   "source": [
    "get_sim_for_new_reaction('CC(C(C)(C)O1)(C)OB1C(B2OC(C)(C)C(C)(C)O2)C3(C4)CC4(C)C3.BrC1N=NN=N1>>CC1(C2)CC2(CC3N=NN=N3)C1')"
   ]
  },
  {
   "cell_type": "markdown",
   "id": "9d33a5c4",
   "metadata": {},
   "source": [
    "###### hexatomic ring"
   ]
  },
  {
   "cell_type": "code",
   "execution_count": 44,
   "id": "2fde21b4",
   "metadata": {},
   "outputs": [
    {
     "name": "stdout",
     "output_type": "stream",
     "text": [
      "BrC1=CC=CN=N1.CC12CC(C(B3OC(C)(C)C(C)(C)O3)B3OC(C)(C)C(C)(C)O3)(C1)C2>>CC12CC(CC3=CC=CN=N3)(C1)C2\n"
     ]
    },
    {
     "data": {
      "text/plain": [
       "0.7827715355805243"
      ]
     },
     "execution_count": 44,
     "metadata": {},
     "output_type": "execute_result"
    }
   ],
   "source": [
    "get_sim_for_new_reaction('CC(C(C)(C)O1)(C)OB1C(B2OC(C)(C)C(C)(C)O2)C3(C4)CC4(C)C3.BrC1=CC=CN=N1>>CC1(C2)CC2(CC3=CC=CN=N3)C1')"
   ]
  },
  {
   "cell_type": "code",
   "execution_count": 45,
   "id": "63629218",
   "metadata": {},
   "outputs": [
    {
     "name": "stdout",
     "output_type": "stream",
     "text": [
      "BrC1=CC=NN=N1.CC12CC(C(B3OC(C)(C)C(C)(C)O3)B3OC(C)(C)C(C)(C)O3)(C1)C2>>CC12CC(CC3=CC=NN=N3)(C1)C2\n"
     ]
    },
    {
     "data": {
      "text/plain": [
       "0.7939571150097466"
      ]
     },
     "execution_count": 45,
     "metadata": {},
     "output_type": "execute_result"
    }
   ],
   "source": [
    "get_sim_for_new_reaction('CC(C(C)(C)O1)(C)OB1C(B2OC(C)(C)C(C)(C)O2)C3(C4)CC4(C)C3.BrC1=CC=NN=N1>>CC1(C2)CC2(CC3=CC=NN=N3)C1')"
   ]
  },
  {
   "cell_type": "markdown",
   "id": "47870b9a",
   "metadata": {},
   "source": [
    "##### Examples  from Chemarxiv add bomo"
   ]
  },
  {
   "cell_type": "markdown",
   "id": "3cf32fac",
   "metadata": {},
   "source": [
    "##### successful examples"
   ]
  },
  {
   "cell_type": "code",
   "execution_count": 75,
   "id": "3df5d36a",
   "metadata": {},
   "outputs": [
    {
     "name": "stdout",
     "output_type": "stream",
     "text": [
      "BrC1=CC=CC=N1.CC1(C)OB(C(B2OC(C)(C)C(C)(C)O2)C23CC(OCOCC4=CC=CC=C4)(C2)C3)OC1(C)C>>C1=CC=C(COCOC23CC(CC4=CC=CC=N4)(C2)C3)C=C1\n"
     ]
    },
    {
     "data": {
      "text/plain": [
       "0.8127544097693351"
      ]
     },
     "execution_count": 75,
     "metadata": {},
     "output_type": "execute_result"
    }
   ],
   "source": [
    "# 53 53%\n",
    "get_sim_for_new_reaction('CC1(C(OB(O1)C(B2OC(C(O2)(C)C)(C)C)C34CC(C3)(C4)OCOCC5=CC=CC=C5)(C)C)C.BrC6=CC=CC=N6>>C7(CC89CC(C9)(OCOCC%10=CC=CC=C%10)C8)=CC=CC=N7')"
   ]
  },
  {
   "cell_type": "code",
   "execution_count": 49,
   "id": "addddfda",
   "metadata": {},
   "outputs": [
    {
     "name": "stdout",
     "output_type": "stream",
     "text": [
      "BrC1=CC=CN=C1.CC1(C)OB(C(B2OC(C)(C)C(C)(C)O2)C23CC(OCOCC4=CC=CC=C4)(C2)C3)OC1(C)C>>C1=CC=C(COCOC23CC(CC4=CC=CN=C4)(C2)C3)C=C1\n"
     ]
    },
    {
     "data": {
      "text/plain": [
       "0.8279463655610445"
      ]
     },
     "execution_count": 49,
     "metadata": {},
     "output_type": "execute_result"
    }
   ],
   "source": [
    "## successful\n",
    "# 54 99%\n",
    "get_sim_for_new_reaction('CC1(C)C(C)(OB(C(C23CC(OCOCC4=CC=CC=C4)(C3)C2)B5OC(C)(C(C)(O5)C)C)O1)C.BrC6=CC=CN=C6>>C7(CC8(C9)CC9(C8)OCOCC%10=CC=CC=C%10)=CC=CN=C7')"
   ]
  },
  {
   "cell_type": "code",
   "execution_count": 50,
   "id": "9e6c45fe",
   "metadata": {},
   "outputs": [
    {
     "name": "stdout",
     "output_type": "stream",
     "text": [
      "BrC1=CC=NC=C1.CC1(C)OB(C(B2OC(C)(C)C(C)(C)O2)C23CC(OCOCC4=CC=CC=C4)(C2)C3)OC1(C)C>>C1=CC=C(COCOC23CC(CC4=CC=NC=C4)(C2)C3)C=C1\n"
     ]
    },
    {
     "data": {
      "text/plain": [
       "0.8279463655610445"
      ]
     },
     "execution_count": 50,
     "metadata": {},
     "output_type": "execute_result"
    }
   ],
   "source": [
    "## 55 94%\n",
    "get_sim_for_new_reaction('CC1(C)C(C)(OB(C(C23CC(OCOCC4=CC=CC=C4)(C3)C2)B5OC(C)(C(C)(O5)C)C)O1)C.BrC6=CC=NC=C6>>C7(CC8(C9)CC9(C8)OCOCC%10=CC=CC=C%10)=CC=NC=C7')"
   ]
  },
  {
   "cell_type": "code",
   "execution_count": 51,
   "id": "a757bca2",
   "metadata": {},
   "outputs": [
    {
     "name": "stdout",
     "output_type": "stream",
     "text": [
      "BrC1=NC=CC=N1.CC1(C)OB(C(B2OC(C)(C)C(C)(C)O2)C23CC(OCOCC4=CC=CC=C4)(C2)C3)OC1(C)C>>C1=CC=C(COCOC23CC(CC4=NC=CC=N4)(C2)C3)C=C1\n"
     ]
    },
    {
     "data": {
      "text/plain": [
       "0.8206484474483299"
      ]
     },
     "execution_count": 51,
     "metadata": {},
     "output_type": "execute_result"
    }
   ],
   "source": [
    "##56 39%\n",
    "get_sim_for_new_reaction('CC1(C)C(C)(OB(C(C23CC(OCOCC4=CC=CC=C4)(C3)C2)B5OC(C)(C(C)(O5)C)C)O1)C.BrC6=NC=CC=N6>>C7(CC8(C9)CC9(C8)OCOCC%10=CC=CC=C%10)=NC=CC=N7')"
   ]
  },
  {
   "cell_type": "code",
   "execution_count": 78,
   "id": "365eb6e0",
   "metadata": {},
   "outputs": [
    {
     "name": "stdout",
     "output_type": "stream",
     "text": [
      "BrC1=CN=CN=C1.CC1(C)OB(C(B2OC(C)(C)C(C)(C)O2)C23CC(OCOCC4=CC=CC=C4)(C2)C3)OC1(C)C>>C1=CC=C(COCOC23CC(CC4=CN=CN=C4)(C2)C3)C=C1\n"
     ]
    },
    {
     "data": {
      "text/plain": [
       "0.8212809917355373"
      ]
     },
     "execution_count": 78,
     "metadata": {},
     "output_type": "execute_result"
    }
   ],
   "source": [
    "## 57 38%\n",
    "get_sim_for_new_reaction('CC1(C)C(C)(C)OB(C(C23CC(C3)(OCOCC4=CC=CC=C4)C2)B5OC(C)(C)C(C)(C)O5)O1.BrC6=CN=CN=C6>>C7(CC89CC(OCOCC%10=CC=CC=C%10)(C9)C8)=CN=CN=C7')"
   ]
  },
  {
   "cell_type": "code",
   "execution_count": 68,
   "id": "5db61786",
   "metadata": {},
   "outputs": [
    {
     "name": "stdout",
     "output_type": "stream",
     "text": [
      "BrC1=NC=CN=C1.CC1(C)OB(C(B2OC(C)(C)C(C)(C)O2)C23CC(OCOCC4=CC=CC=C4)(C2)C3)OC1(C)C>>C1=CC=C(COCOC23CC(CC4=CN=CC=N4)(C2)C3)C=C1\n"
     ]
    },
    {
     "data": {
      "text/plain": [
       "0.8166513621059075"
      ]
     },
     "execution_count": 68,
     "metadata": {},
     "output_type": "execute_result"
    }
   ],
   "source": [
    "#58 73%\n",
    "get_sim_for_new_reaction('CC1(C(OB(O1)C(B2OC(C(O2)(C)C)(C)C)C34CC(C3)(C4)OCOCC5=CC=CC=C5)(C)C)C.BrC6=NC=CN=C6>>C7(CC89CC(C9)(OCOCC%10=CC=CC=C%10)C8)=CN=CC=N7')"
   ]
  },
  {
   "cell_type": "code",
   "execution_count": 69,
   "id": "7ea6a4a8",
   "metadata": {},
   "outputs": [
    {
     "name": "stdout",
     "output_type": "stream",
     "text": [
      "BrC1=NC2=C(C=CC=C2)C=C1.CC1(C)OB(C(B2OC(C)(C)C(C)(C)O2)C23CC(OCOCC4=CC=CC=C4)(C2)C3)OC1(C)C>>C1=CC=C(COCOC23CC(CC4=CC=C5C=CC=CC5=N4)(C2)C3)C=C1\n"
     ]
    },
    {
     "data": {
      "text/plain": [
       "0.8170886075949367"
      ]
     },
     "execution_count": 69,
     "metadata": {},
     "output_type": "execute_result"
    }
   ],
   "source": [
    "## 60 82%\n",
    "get_sim_for_new_reaction('CC1(C(OB(O1)C(B2OC(C(O2)(C)C)(C)C)C34CC(C3)(C4)OCOCC5=CC=CC=C5)(C)C)C.BrC6=NC7=C(C=C6)C=CC=C7>>C8(CC9%10CC(C%10)(OCOCC%11=CC=CC=C%11)C9)=CC=C(C=CC=C%12)C%12=N8')"
   ]
  },
  {
   "cell_type": "code",
   "execution_count": 52,
   "id": "4413ab4c",
   "metadata": {},
   "outputs": [
    {
     "name": "stdout",
     "output_type": "stream",
     "text": [
      "BrC1=CC2=C(C=CC=C2)N=C1.CC1(C)OB(C(B2OC(C)(C)C(C)(C)O2)C23CC(OCOCC4=CC=CC=C4)(C2)C3)OC1(C)C>>C1=CC=C(COCOC23CC(CC4=CC5=C(C=CC=C5)N=C4)(C2)C3)C=C1\n"
     ]
    },
    {
     "data": {
      "text/plain": [
       "0.8227065712426805"
      ]
     },
     "execution_count": 52,
     "metadata": {},
     "output_type": "execute_result"
    }
   ],
   "source": [
    "##61 90%\n",
    "get_sim_for_new_reaction('CC1(C)C(C)(OB(C(C23CC(OCOCC4=CC=CC=C4)(C3)C2)B5OC(C)(C(C)(O5)C)C)O1)C.BrC6=CC7=C(N=C6)C=CC=C7>>C8(CC9(C%10)CC%10(C9)OCOCC%11=CC=CC=C%11)=CC%12=C(N=C8)C=CC=C%12')"
   ]
  },
  {
   "cell_type": "code",
   "execution_count": 70,
   "id": "944d0684",
   "metadata": {},
   "outputs": [
    {
     "name": "stdout",
     "output_type": "stream",
     "text": [
      "BrC1=CC2=C(C=CC=C2)C=N1.CC1(C)OB(C(B2OC(C)(C)C(C)(C)O2)C23CC(OCOCC4=CC=CC=C4)(C2)C3)OC1(C)C>>C1=CC=C(COCOC23CC(CC4=CC5=C(C=CC=C5)C=N4)(C2)C3)C=C1\n"
     ]
    },
    {
     "data": {
      "text/plain": [
       "0.8170886075949367"
      ]
     },
     "execution_count": 70,
     "metadata": {},
     "output_type": "execute_result"
    }
   ],
   "source": [
    "## 62 71%\n",
    "get_sim_for_new_reaction('CC1(C(OB(O1)C(B2OC(C(O2)(C)C)(C)C)C34CC(C3)(C4)OCOCC5=CC=CC=C5)(C)C)C.BrC(N=C6)=CC7=C6C=CC=C7>>C8(CC9%10CC(C%10)(OCOCC%11=CC=CC=C%11)C9)=CC(C=CC=C%12)=C%12C=N8')"
   ]
  },
  {
   "cell_type": "code",
   "execution_count": 71,
   "id": "1403d156",
   "metadata": {},
   "outputs": [
    {
     "name": "stdout",
     "output_type": "stream",
     "text": [
      "BrC1=CN=CC2=C1C=CC=C2.CC1(C)OB(C(B2OC(C)(C)C(C)(C)O2)C23CC(OCOCC4=CC=CC=C4)(C2)C3)OC1(C)C>>C1=CC=C(COCOC23CC(CC4=C5C=CC=CC5=CN=C4)(C2)C3)C=C1\n"
     ]
    },
    {
     "data": {
      "text/plain": [
       "0.8335839598997494"
      ]
     },
     "execution_count": 71,
     "metadata": {},
     "output_type": "execute_result"
    }
   ],
   "source": [
    "## 63 55%\n",
    "get_sim_for_new_reaction('CC1(C(OB(O1)C(B2OC(C(O2)(C)C)(C)C)C34CC(C3)(C4)OCOCC5=CC=CC=C5)(C)C)C.BrC6=CN=CC7=C6C=CC=C7>>C8(CC9%10CC(C%10)(OCOCC%11=CC=CC=C%11)C9)=C(C=CC=C%12)C%12=CN=C8')"
   ]
  },
  {
   "cell_type": "code",
   "execution_count": 72,
   "id": "9d34ab19",
   "metadata": {},
   "outputs": [
    {
     "name": "stdout",
     "output_type": "stream",
     "text": [
      "BrC1=CN=CC2=C1N=CC=C2.CC1(C)OB(C(B2OC(C)(C)C(C)(C)O2)C23CC(OCOCC4=CC=CC=C4)(C2)C3)OC1(C)C>>C1=CC=C(COCOC23CC(CC4=C5N=CC=CC5=CN=C4)(C2)C3)C=C1\n"
     ]
    },
    {
     "data": {
      "text/plain": [
       "0.8540781218376847"
      ]
     },
     "execution_count": 72,
     "metadata": {},
     "output_type": "execute_result"
    }
   ],
   "source": [
    "## 64 88%\n",
    "get_sim_for_new_reaction('CC1(C(OB(O1)C(B2OC(C(O2)(C)C)(C)C)C34CC(C3)(C4)OCOCC5=CC=CC=C5)(C)C)C.BrC6=CN=CC7=C6N=CC=C7>>C8(CC9%10CC(C%10)(OCOCC%11=CC=CC=C%11)C9)=C(N=CC=C%12)C%12=CN=C8')"
   ]
  },
  {
   "cell_type": "code",
   "execution_count": 73,
   "id": "b277f303",
   "metadata": {},
   "outputs": [
    {
     "name": "stdout",
     "output_type": "stream",
     "text": [
      "BrC1=CN=CC2=C1C=CC=N2.CC1(C)OB(C(B2OC(C)(C)C(C)(C)O2)C23CC(OCOCC4=CC=CC=C4)(C2)C3)OC1(C)C>>C1=CC=C(COCOC23CC(CC4=C5C=CC=NC5=CN=C4)(C2)C3)C=C1\n"
     ]
    },
    {
     "data": {
      "text/plain": [
       "0.8335357215138636"
      ]
     },
     "execution_count": 73,
     "metadata": {},
     "output_type": "execute_result"
    }
   ],
   "source": [
    "## 65 72%\n",
    "get_sim_for_new_reaction('CC1(C(OB(O1)C(B2OC(C(O2)(C)C)(C)C)C34CC(C3)(C4)OCOCC5=CC=CC=C5)(C)C)C.BrC6=CN=CC7=C6C=CC=N7>>C8(CC9%10CC(C%10)(OCOCC%11=CC=CC=C%11)C9)=C(C=CC=N%12)C%12=CN=C8')"
   ]
  },
  {
   "cell_type": "code",
   "execution_count": 74,
   "id": "df90b0a9",
   "metadata": {},
   "outputs": [
    {
     "name": "stdout",
     "output_type": "stream",
     "text": [
      "BrC1=CC2=NC=NN2C=C1.CC1(C)OB(C(B2OC(C)(C)C(C)(C)O2)C23CC(OCOCC4=CC=CC=C4)(C2)C3)OC1(C)C>>C1=CC=C(COCOC23CC(CC4=CC5=NC=NN5C=C4)(C2)C3)C=C1\n"
     ]
    },
    {
     "data": {
      "text/plain": [
       "0.86281179138322"
      ]
     },
     "execution_count": 74,
     "metadata": {},
     "output_type": "execute_result"
    }
   ],
   "source": [
    "##  66 57%\n",
    "get_sim_for_new_reaction('CC1(C(OB(O1)C(B2OC(C(O2)(C)C)(C)C)C34CC(C3)(C4)OCOCC5=CC=CC=C5)(C)C)C.BrC6=CC7=NC=NN7C=C6>>C8(CC9%10CC(C%10)(OCOCC%11=CC=CC=C%11)C9)=CC%12=NC=NN%12C=C8')"
   ]
  },
  {
   "cell_type": "markdown",
   "id": "ad379b2c",
   "metadata": {},
   "source": [
    "##### unsuccessful examples"
   ]
  },
  {
   "cell_type": "code",
   "execution_count": 53,
   "id": "3f241995",
   "metadata": {},
   "outputs": [
    {
     "name": "stdout",
     "output_type": "stream",
     "text": [
      "BrC1=COC=N1.CC1(C)OB(C(B2OC(C)(C)C(C)(C)O2)C23CC(OCOCC4=CC=CC=C4)(C2)C3)OC1(C)C>>C1=CC=C(COCOC23CC(CC4=COC=N4)(C2)C3)C=C1\n"
     ]
    },
    {
     "data": {
      "text/plain": [
       "0.7904761904761906"
      ]
     },
     "execution_count": 53,
     "metadata": {},
     "output_type": "execute_result"
    }
   ],
   "source": [
    "## unsuccessful\n",
    "# 5 ring\n",
    "get_sim_for_new_reaction('CC1(C)C(C)(OB(C(C23CC(OCOCC4=CC=CC=C4)(C3)C2)B5OC(C)(C(C)(O5)C)C)O1)C.BrC6=COC=N6>>C7(CC8(C9)CC9(C8)OCOCC%10=CC=CC=C%10)=COC=N7')"
   ]
  },
  {
   "cell_type": "code",
   "execution_count": 54,
   "id": "c902ae99",
   "metadata": {},
   "outputs": [
    {
     "name": "stdout",
     "output_type": "stream",
     "text": [
      "BrC1=CSC=N1.CC1(C)OB(C(B2OC(C)(C)C(C)(C)O2)C23CC(OCOCC4=CC=CC=C4)(C2)C3)OC1(C)C>>C1=CC=C(COCOC23CC(CC4=CSC=N4)(C2)C3)C=C1\n"
     ]
    },
    {
     "data": {
      "text/plain": [
       "0.7805173362685746"
      ]
     },
     "execution_count": 54,
     "metadata": {},
     "output_type": "execute_result"
    }
   ],
   "source": [
    "get_sim_for_new_reaction('CC1(C)C(C)(OB(C(C23CC(OCOCC4=CC=CC=C4)(C3)C2)B5OC(C)(C(C)(O5)C)C)O1)C.BrC6=CSC=N6>>C7(CC8(C9)CC9(C8)OCOCC%10=CC=CC=C%10)=CSC=N7')"
   ]
  },
  {
   "cell_type": "code",
   "execution_count": 55,
   "id": "396f462d",
   "metadata": {},
   "outputs": [
    {
     "name": "stdout",
     "output_type": "stream",
     "text": [
      "BrC1=NN=NC1.CC1(C)OB(C(B2OC(C)(C)C(C)(C)O2)C23CC(OCOCC4=CC=CC=C4)(C2)C3)OC1(C)C>>C1=CC=C(COCOC23CC(CC4C=NN=N4)(C2)C3)C=C1\n"
     ]
    },
    {
     "data": {
      "text/plain": [
       "0.7824937810945274"
      ]
     },
     "execution_count": 55,
     "metadata": {},
     "output_type": "execute_result"
    }
   ],
   "source": [
    "get_sim_for_new_reaction('CC1(C)C(C)(OB(C(C23CC(OCOCC4=CC=CC=C4)(C3)C2)B5OC(C)(C(C)(O5)C)C)O1)C.BrC6=NN=NC6>>C7(N=NN=C7)CC8(C9)CC9(C8)OCOCC%10=CC=CC=C%10')"
   ]
  },
  {
   "cell_type": "code",
   "execution_count": 56,
   "id": "e76db5f1",
   "metadata": {},
   "outputs": [
    {
     "name": "stdout",
     "output_type": "stream",
     "text": [
      "BrC1N=NN=N1.CC1(C)OB(C(B2OC(C)(C)C(C)(C)O2)C23CC(OCOCC4=CC=CC=C4)(C2)C3)OC1(C)C>>C1=CC=C(COCOC23CC(CC4N=NN=N4)(C2)C3)C=C1\n"
     ]
    },
    {
     "data": {
      "text/plain": [
       "0.7840909090909092"
      ]
     },
     "execution_count": 56,
     "metadata": {},
     "output_type": "execute_result"
    }
   ],
   "source": [
    "get_sim_for_new_reaction('CC1(C)C(C)(OB(C(C23CC(OCOCC4=CC=CC=C4)(C3)C2)B5OC(C)(C(C)(O5)C)C)O1)C.BrC6N=NN=N6>>C7(N=NN=N7)CC8(C9)CC9(C8)OCOCC%10=CC=CC=C%10')"
   ]
  },
  {
   "cell_type": "code",
   "execution_count": 57,
   "id": "a0bd3b34",
   "metadata": {},
   "outputs": [
    {
     "name": "stdout",
     "output_type": "stream",
     "text": [
      "BrC1N=CN=N1.CC1(C)OB(C(B2OC(C)(C)C(C)(C)O2)C23CC(OCOCC4=CC=CC=C4)(C2)C3)OC1(C)C>>C1=CC=C(COCOC23CC(CC4N=CN=N4)(C2)C3)C=C1\n"
     ]
    },
    {
     "data": {
      "text/plain": [
       "0.7880382775119618"
      ]
     },
     "execution_count": 57,
     "metadata": {},
     "output_type": "execute_result"
    }
   ],
   "source": [
    "get_sim_for_new_reaction('CC1(C)C(C)(OB(C(C23CC(OCOCC4=CC=CC=C4)(C3)C2)B5OC(C)(C(C)(O5)C)C)O1)C.BrC6N=CN=N6>>C7(N=NC=N7)CC8(C9)CC9(C8)OCOCC%10=CC=CC=C%10')"
   ]
  },
  {
   "cell_type": "code",
   "execution_count": 58,
   "id": "ebfc547a",
   "metadata": {},
   "outputs": [
    {
     "name": "stdout",
     "output_type": "stream",
     "text": [
      "BrC1=CC=CN=N1.CC1(C)OB(C(B2OC(C)(C)C(C)(C)O2)C23CC(OCOCC4=CC=CC=C4)(C2)C3)OC1(C)C>>C1=CC=C(COCOC23CC(CC4=CC=CN=N4)(C2)C3)C=C1\n"
     ]
    },
    {
     "data": {
      "text/plain": [
       "0.8105983255054114"
      ]
     },
     "execution_count": 58,
     "metadata": {},
     "output_type": "execute_result"
    }
   ],
   "source": [
    "# 6ring\n",
    "get_sim_for_new_reaction('CC1(C)C(C)(OB(C(C23CC(OCOCC4=CC=CC=C4)(C3)C2)B5OC(C)(C(C)(O5)C)C)O1)C.BrC6=CC=CN=N6>>C7(CC8(C9)CC9(C8)OCOCC%10=CC=CC=C%10)=CC=CN=N7')"
   ]
  },
  {
   "cell_type": "code",
   "execution_count": 61,
   "id": "c2505b2c",
   "metadata": {},
   "outputs": [
    {
     "name": "stdout",
     "output_type": "stream",
     "text": [
      "BrC1=CC=NN=N1.CC1(C)OB(C(B2OC(C)(C)C(C)(C)O2)C23CC(OCOCC4=CC=CC=C4)(C2)C3)OC1(C)C>>C1=CC=C(COCOC23CC(CC4=CC=NN=N4)(C2)C3)C=C1\n"
     ]
    },
    {
     "data": {
      "text/plain": [
       "0.8061372422680413"
      ]
     },
     "execution_count": 61,
     "metadata": {},
     "output_type": "execute_result"
    }
   ],
   "source": [
    "get_sim_for_new_reaction('CC1(C)C(C)(OB(C(C23CC(OCOCC4=CC=CC=C4)(C3)C2)B5OC(C)(C(C)(O5)C)C)O1)C.BrC6=CC=NN=N6>>C7(CC8(C9)CC9(C8)OCOCC%10=CC=CC=C%10)=CC=NN=N7')"
   ]
  },
  {
   "cell_type": "code",
   "execution_count": 62,
   "id": "90b4b620",
   "metadata": {},
   "outputs": [
    {
     "name": "stdout",
     "output_type": "stream",
     "text": [
      "BrC1=CN=NN=C1.CC1(C)OB(C(B2OC(C)(C)C(C)(C)O2)C23CC(OCOCC4=CC=CC=C4)(C2)C3)OC1(C)C>>C1=CC=C(COCOC23CC(CC4=CN=NN=C4)(C2)C3)C=C1\n"
     ]
    },
    {
     "data": {
      "text/plain": [
       "0.798839618731869"
      ]
     },
     "execution_count": 62,
     "metadata": {},
     "output_type": "execute_result"
    }
   ],
   "source": [
    "get_sim_for_new_reaction('CC1(C)C(C)(OB(C(C23CC(OCOCC4=CC=CC=C4)(C3)C2)B5OC(C)(C(C)(O5)C)C)O1)C.BrC6=CN=NN=C6>>C7(CC8(C9)CC9(C8)OCOCC%10=CC=CC=C%10)=CN=NN=C7')"
   ]
  },
  {
   "cell_type": "code",
   "execution_count": 63,
   "id": "fad0460b",
   "metadata": {},
   "outputs": [
    {
     "name": "stdout",
     "output_type": "stream",
     "text": [
      "BrC1=CN=CN=N1.CC1(C)OB(C(B2OC(C)(C)C(C)(C)O2)C23CC(OCOCC4=CC=CC=C4)(C2)C3)OC1(C)C>>C1=CC=C(COCOC23CC(CC4=CN=CN=N4)(C2)C3)C=C1\n"
     ]
    },
    {
     "data": {
      "text/plain": [
       "0.8189149560117301"
      ]
     },
     "execution_count": 63,
     "metadata": {},
     "output_type": "execute_result"
    }
   ],
   "source": [
    "get_sim_for_new_reaction('CC1(C)C(C)(OB(C(C23CC(OCOCC4=CC=CC=C4)(C3)C2)B5OC(C)(C(C)(O5)C)C)O1)C.BrC6=CN=CN=N6>>C7(CC8(C9)CC9(C8)OCOCC%10=CC=CC=C%10)=CN=CN=N7')"
   ]
  },
  {
   "cell_type": "code",
   "execution_count": 64,
   "id": "fd1174a8",
   "metadata": {},
   "outputs": [
    {
     "name": "stdout",
     "output_type": "stream",
     "text": [
      "BrC1=NC=CN=N1.CC1(C)OB(C(B2OC(C)(C)C(C)(C)O2)C23CC(OCOCC4=CC=CC=C4)(C2)C3)OC1(C)C>>C1=CC=C(COCOC23CC(CC4=NC=CN=N4)(C2)C3)C=C1\n"
     ]
    },
    {
     "data": {
      "text/plain": [
       "0.8221884498480243"
      ]
     },
     "execution_count": 64,
     "metadata": {},
     "output_type": "execute_result"
    }
   ],
   "source": [
    "get_sim_for_new_reaction('CC1(C)C(C)(OB(C(C23CC(OCOCC4=CC=CC=C4)(C3)C2)B5OC(C)(C(C)(O5)C)C)O1)C.BrC6=NC=CN=N6>>C7(CC8(C9)CC9(C8)OCOCC%10=CC=CC=C%10)=NC=CN=N7')"
   ]
  },
  {
   "cell_type": "code",
   "execution_count": 65,
   "id": "0b95aa77",
   "metadata": {},
   "outputs": [
    {
     "name": "stdout",
     "output_type": "stream",
     "text": [
      "BrC1=NN=CN=N1.CC1(C)OB(C(B2OC(C)(C)C(C)(C)O2)C23CC(OCOCC4=CC=CC=C4)(C2)C3)OC1(C)C>>C1=CC=C(COCOC23CC(CC4=NN=CN=N4)(C2)C3)C=C1\n"
     ]
    },
    {
     "data": {
      "text/plain": [
       "0.8180451127819548"
      ]
     },
     "execution_count": 65,
     "metadata": {},
     "output_type": "execute_result"
    }
   ],
   "source": [
    "get_sim_for_new_reaction('CC1(C)C(C)(OB(C(C23CC(OCOCC4=CC=CC=C4)(C3)C2)B5OC(C)(C(C)(O5)C)C)O1)C.BrC6=NN=CN=N6>>C7(CC8(C9)CC9(C8)OCOCC%10=CC=CC=C%10)=NN=CN=N7')"
   ]
  },
  {
   "cell_type": "code",
   "execution_count": null,
   "id": "b3dbf009",
   "metadata": {},
   "outputs": [],
   "source": []
  }
 ],
 "metadata": {
  "kernelspec": {
   "display_name": "py39",
   "language": "python",
   "name": "python3"
  },
  "language_info": {
   "codemirror_mode": {
    "name": "ipython",
    "version": 3
   },
   "file_extension": ".py",
   "mimetype": "text/x-python",
   "name": "python",
   "nbconvert_exporter": "python",
   "pygments_lexer": "ipython3",
   "version": "3.9.18"
  }
 },
 "nbformat": 4,
 "nbformat_minor": 5
}
